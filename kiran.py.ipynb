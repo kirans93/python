{
 "cells": [
  {
   "cell_type": "code",
   "execution_count": 2,
   "id": "db8a9317",
   "metadata": {},
   "outputs": [
    {
     "name": "stdout",
     "output_type": "stream",
     "text": [
      "Function to double the value\n"
     ]
    }
   ],
   "source": [
    "def double():\n",
    "    \"\"\"Function to double the value\"\"\"\n",
    "    '''Takes in number n,returns the square of n'''\n",
    "    #return 3*num\n",
    "print(double.__doc__)"
   ]
  },
  {
   "cell_type": "code",
   "execution_count": 59,
   "id": "9a9b6bcc",
   "metadata": {},
   "outputs": [
    {
     "name": "stdout",
     "output_type": "stream",
     "text": [
      "python@"
     ]
    }
   ],
   "source": [
    "print(\"python\",end='@')"
   ]
  },
  {
   "cell_type": "code",
   "execution_count": 60,
   "id": "e1b305f9",
   "metadata": {},
   "outputs": [
    {
     "name": "stdout",
     "output_type": "stream",
     "text": [
      "my name is, kiran.!"
     ]
    }
   ],
   "source": [
    "print(\"my name is, \",end='')\n",
    "print(\"kiran.\",end='!')"
   ]
  },
  {
   "cell_type": "code",
   "execution_count": 61,
   "id": "acda68fd",
   "metadata": {},
   "outputs": [
    {
     "name": "stdout",
     "output_type": "stream",
     "text": [
      "100\n"
     ]
    }
   ],
   "source": [
    "a=100\n",
    "print(a)"
   ]
  },
  {
   "cell_type": "code",
   "execution_count": 62,
   "id": "994f1ca8",
   "metadata": {},
   "outputs": [
    {
     "name": "stdout",
     "output_type": "stream",
     "text": [
      "s\n",
      "kiran\n"
     ]
    }
   ],
   "source": [
    "first_name='s'\n",
    "second_name='kiran'\n",
    "print(first_name)\n",
    "print(second_name)"
   ]
  },
  {
   "cell_type": "code",
   "execution_count": 63,
   "id": "3a71a331",
   "metadata": {},
   "outputs": [
    {
     "name": "stdout",
     "output_type": "stream",
     "text": [
      "first\n"
     ]
    }
   ],
   "source": [
    "sem='first'\n",
    "print(sem)"
   ]
  },
  {
   "cell_type": "code",
   "execution_count": null,
   "id": "57808f63",
   "metadata": {},
   "outputs": [],
   "source": []
  },
  {
   "cell_type": "code",
   "execution_count": null,
   "id": "fafeec46",
   "metadata": {},
   "outputs": [],
   "source": []
  },
  {
   "cell_type": "code",
   "execution_count": 12,
   "id": "36a066fc",
   "metadata": {},
   "outputs": [
    {
     "name": "stdout",
     "output_type": "stream",
     "text": [
      "welcome to world!"
     ]
    }
   ],
   "source": [
    "print(\"welcome to \",end='')\n",
    "print(\"world\",end='!')"
   ]
  },
  {
   "cell_type": "code",
   "execution_count": 27,
   "id": "ed5d3000",
   "metadata": {},
   "outputs": [
    {
     "name": "stdout",
     "output_type": "stream",
     "text": [
      "cs\n"
     ]
    }
   ],
   "source": [
    "branch='cs'\n",
    "print(branch)"
   ]
  },
  {
   "cell_type": "code",
   "execution_count": 28,
   "id": "970624c7",
   "metadata": {},
   "outputs": [
    {
     "name": "stdout",
     "output_type": "stream",
     "text": [
      "kiran5\n"
     ]
    }
   ],
   "source": [
    "a=\"kiran\"\n",
    "b=5\n",
    "print(a+str(b))"
   ]
  },
  {
   "cell_type": "code",
   "execution_count": 34,
   "id": "5f60b551",
   "metadata": {},
   "outputs": [
    {
     "data": {
      "text/plain": [
       "100"
      ]
     },
     "execution_count": 34,
     "metadata": {},
     "output_type": "execute_result"
    }
   ],
   "source": [
    "n=100\n",
    "n\n"
   ]
  },
  {
   "cell_type": "code",
   "execution_count": 65,
   "id": "31c47b47",
   "metadata": {},
   "outputs": [
    {
     "name": "stdout",
     "output_type": "stream",
     "text": [
      "Function to double the value\n"
     ]
    }
   ],
   "source": [
    "\n",
    "def double():\n",
    "    \"\"\"Function to double the value\"\"\"\n",
    "    '''Takes in number n,returns the square of n'''\n",
    "    #return 3*num\n",
    "print(double.__doc__)"
   ]
  },
  {
   "cell_type": "code",
   "execution_count": 70,
   "id": "b1b3293f",
   "metadata": {
    "scrolled": false
   },
   "outputs": [
    {
     "name": "stdout",
     "output_type": "stream",
     "text": [
      "19\n",
      "37.0\n",
      "37.0\n",
      "(37+0j)\n",
      "(37+19.16j)\n"
     ]
    }
   ],
   "source": [
    "a=37\n",
    "b=19.16\n",
    "c=3+27j\n",
    "#convrting float to int\n",
    "print(int(b))\n",
    "\n",
    "#converting int to float\n",
    "print(float(a))\n",
    "\n",
    "#converting float to complex\n",
    "print(float(a))\n",
    "\n",
    "#converting to compex\n",
    "print(complex(a))\n",
    "\n",
    "#converting int to complex\n",
    "print(complex(a,b))\n",
    "\n"
   ]
  },
  {
   "cell_type": "code",
   "execution_count": 1,
   "id": "f8f3dadc",
   "metadata": {},
   "outputs": [
    {
     "name": "stdout",
     "output_type": "stream",
     "text": [
      "[6, 99, 77, 'APPLE']\n"
     ]
    },
    {
     "ename": "NameError",
     "evalue": "name 'APPLE' is not defined",
     "output_type": "error",
     "traceback": [
      "\u001b[1;31m---------------------------------------------------------------------------\u001b[0m",
      "\u001b[1;31mNameError\u001b[0m                                 Traceback (most recent call last)",
      "Input \u001b[1;32mIn [1]\u001b[0m, in \u001b[0;36m<cell line: 4>\u001b[1;34m()\u001b[0m\n\u001b[0;32m      2\u001b[0m x\u001b[38;5;241m=\u001b[39m[\u001b[38;5;241m6\u001b[39m,\u001b[38;5;241m99\u001b[39m,\u001b[38;5;241m77\u001b[39m,\u001b[38;5;124m'\u001b[39m\u001b[38;5;124mAPPLE\u001b[39m\u001b[38;5;124m'\u001b[39m]\n\u001b[0;32m      3\u001b[0m \u001b[38;5;28mprint\u001b[39m(x)\n\u001b[1;32m----> 4\u001b[0m [\u001b[38;5;241m6\u001b[39m,\u001b[38;5;241m99\u001b[39m,\u001b[38;5;241m77\u001b[39m,\u001b[43mAPPLE\u001b[49m]\n",
      "\u001b[1;31mNameError\u001b[0m: name 'APPLE' is not defined"
     ]
    }
   ],
   "source": [
    "#python list\n",
    "x=[6,99,77,'APPLE']\n",
    "print(x)\n",
    "[6,99,77,APPLE]"
   ]
  },
  {
   "cell_type": "code",
   "execution_count": 3,
   "id": "860f0df5",
   "metadata": {},
   "outputs": [
    {
     "name": "stdout",
     "output_type": "stream",
     "text": [
      "t[1]= program\n",
      "(6, 'program', (1+3j))\n"
     ]
    },
    {
     "ename": "TypeError",
     "evalue": "'tuple' object does not support item assignment",
     "output_type": "error",
     "traceback": [
      "\u001b[1;31m---------------------------------------------------------------------------\u001b[0m",
      "\u001b[1;31mTypeError\u001b[0m                                 Traceback (most recent call last)",
      "Input \u001b[1;32mIn [3]\u001b[0m, in \u001b[0;36m<cell line: 5>\u001b[1;34m()\u001b[0m\n\u001b[0;32m      3\u001b[0m \u001b[38;5;28mprint\u001b[39m(\u001b[38;5;124m\"\u001b[39m\u001b[38;5;124mt[1]=\u001b[39m\u001b[38;5;124m\"\u001b[39m,t[\u001b[38;5;241m1\u001b[39m])\n\u001b[0;32m      4\u001b[0m \u001b[38;5;28mprint\u001b[39m(t)\n\u001b[1;32m----> 5\u001b[0m t[\u001b[38;5;241m0\u001b[39m]\u001b[38;5;241m=\u001b[39m\u001b[38;5;241m10\u001b[39m\n",
      "\u001b[1;31mTypeError\u001b[0m: 'tuple' object does not support item assignment"
     ]
    }
   ],
   "source": [
    "#python tupes\n",
    "t=(6,'program',1+3j)\n",
    "print(\"t[1]=\",t[1])\n",
    "print(t)\n",
    "t[0]=10 #tryring to change elements 0 from '6' to '10'"
   ]
  },
  {
   "cell_type": "code",
   "execution_count": 4,
   "id": "d10663cb",
   "metadata": {},
   "outputs": [
    {
     "name": "stdout",
     "output_type": "stream",
     "text": [
      "a= {1, 3, 6, 7, 9}\n"
     ]
    }
   ],
   "source": [
    "#printing set variable\n",
    "a={1,7,3,6,9}\n",
    "print(\"a=\",a)"
   ]
  },
  {
   "cell_type": "code",
   "execution_count": 5,
   "id": "c96c8744",
   "metadata": {},
   "outputs": [
    {
     "name": "stdout",
     "output_type": "stream",
     "text": [
      "b= {2, 4, 5}\n"
     ]
    }
   ],
   "source": [
    "#printing set variables\n",
    "b={2,4,2,5}\n",
    "print(\"b=\",b)"
   ]
  },
  {
   "cell_type": "code",
   "execution_count": 8,
   "id": "e915b8a6",
   "metadata": {},
   "outputs": [
    {
     "name": "stdout",
     "output_type": "stream",
     "text": [
      "{1: 'apple', 2: 'cat', 3: 'food'} <class 'dict'>\n"
     ]
    },
    {
     "data": {
      "text/plain": [
       "'food'"
      ]
     },
     "execution_count": 8,
     "metadata": {},
     "output_type": "execute_result"
    }
   ],
   "source": [
    "#python dictionary\n",
    "d={1: 'apple',2: 'cat',3: 'food'}\n",
    "print(d,type(d))\n",
    "d[3]"
   ]
  },
  {
   "cell_type": "code",
   "execution_count": 9,
   "id": "d9df728c",
   "metadata": {},
   "outputs": [
    {
     "name": "stdout",
     "output_type": "stream",
     "text": [
      "apple\n"
     ]
    }
   ],
   "source": [
    "#python stringd\n",
    "s='''apple'''\n",
    "print(s)"
   ]
  },
  {
   "cell_type": "code",
   "execution_count": 11,
   "id": "b230bb2d",
   "metadata": {},
   "outputs": [
    {
     "name": "stdout",
     "output_type": "stream",
     "text": [
      "11\n"
     ]
    }
   ],
   "source": [
    "#find length\n",
    "a=11\n",
    "print(a)\n"
   ]
  },
  {
   "cell_type": "code",
   "execution_count": 15,
   "id": "de9b700b",
   "metadata": {},
   "outputs": [
    {
     "data": {
      "text/plain": [
       "'hello world welcome'"
      ]
     },
     "execution_count": 15,
     "metadata": {},
     "output_type": "execute_result"
    }
   ],
   "source": [
    "#string concat\n",
    "name=\"hello world\"\n",
    "s=name+\" welcome\" \n",
    "s"
   ]
  },
  {
   "cell_type": "code",
   "execution_count": 19,
   "id": "fa7b38d6",
   "metadata": {},
   "outputs": [
    {
     "name": "stdout",
     "output_type": "stream",
     "text": [
      "before upper: hello world\n",
      "after upper: HELLO WORLD\n"
     ]
    }
   ],
   "source": [
    "# convert string into upper case\n",
    "a=\"hello world\"\n",
    "print(\"before upper:\",a)\n",
    "b=a.upper()\n",
    "print(\"after upper:\",b)"
   ]
  },
  {
   "cell_type": "code",
   "execution_count": 22,
   "id": "96cd03a3",
   "metadata": {},
   "outputs": [
    {
     "data": {
      "text/plain": [
       "' hello world hello world hello world'"
      ]
     },
     "execution_count": 22,
     "metadata": {},
     "output_type": "execute_result"
    }
   ],
   "source": [
    "#string replication \n",
    "3*\" hello world\""
   ]
  },
  {
   "cell_type": "code",
   "execution_count": 26,
   "id": "1f146610",
   "metadata": {},
   "outputs": [
    {
     "data": {
      "text/plain": [
       "-1"
      ]
     },
     "execution_count": 26,
     "metadata": {},
     "output_type": "execute_result"
    }
   ],
   "source": [
    "# find character from string\n",
    "A=\"HELLO WORLD\"\n",
    "B=A.find('e')\n",
    "B"
   ]
  },
  {
   "cell_type": "code",
   "execution_count": 27,
   "id": "f4082bc5",
   "metadata": {},
   "outputs": [
    {
     "name": "stdout",
     "output_type": "stream",
     "text": [
      "i love fruits\n",
      "i like fruits\n"
     ]
    }
   ],
   "source": [
    "#replace strings\n",
    "oldstring='i like fruits'\n",
    "newstring=oldstring.replace('like','love')\n",
    "print(newstring)\n",
    "print(oldstring)"
   ]
  },
  {
   "cell_type": "code",
   "execution_count": null,
   "id": "9ecaa393",
   "metadata": {},
   "outputs": [],
   "source": []
  }
 ],
 "metadata": {
  "kernelspec": {
   "display_name": "Python 3 (ipykernel)",
   "language": "python",
   "name": "python3"
  },
  "language_info": {
   "codemirror_mode": {
    "name": "ipython",
    "version": 3
   },
   "file_extension": ".py",
   "mimetype": "text/x-python",
   "name": "python",
   "nbconvert_exporter": "python",
   "pygments_lexer": "ipython3",
   "version": "3.9.12"
  },
  "widgets": {
   "application/vnd.jupyter.widget-state+json": {
    "state": {},
    "version_major": 2,
    "version_minor": 0
   }
  }
 },
 "nbformat": 4,
 "nbformat_minor": 5
}
